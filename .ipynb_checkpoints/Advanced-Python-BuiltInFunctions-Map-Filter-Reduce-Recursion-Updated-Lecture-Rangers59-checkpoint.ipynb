{
 "cells": [
  {
   "cell_type": "markdown",
   "metadata": {},
   "source": [
    "# Map, Filter, Reduce, Lambda & Recursion"
   ]
  },
  {
   "cell_type": "markdown",
   "metadata": {},
   "source": [
    "## Tasks Today:\n",
    "\n",
    "1) <b>Lambda Functions</b> <br>\n",
    " &nbsp;&nbsp;&nbsp;&nbsp; a) Syntax <br>\n",
    " &nbsp;&nbsp;&nbsp;&nbsp; b) Saving to a Variable <br>\n",
    " &nbsp;&nbsp;&nbsp;&nbsp; c) Multiple Inputs <br>\n",
    " &nbsp;&nbsp;&nbsp;&nbsp; d) Passing a Lambda into a Function <br>\n",
    " &nbsp;&nbsp;&nbsp;&nbsp; e) Returning a Lambda from a Function <br>\n",
    " &nbsp;&nbsp;&nbsp;&nbsp; f) In-Class Exercise #1 <br>\n",
    "2) <b>Map</b> <br>\n",
    " &nbsp;&nbsp;&nbsp;&nbsp; a) Syntax <br>\n",
    " &nbsp;&nbsp;&nbsp;&nbsp; b) Using Lambda's with Map <br>\n",
    " &nbsp;&nbsp;&nbsp;&nbsp; c) In-Class Exercise #2 <br>\n",
    "3) <b>Filter</b> <br>\n",
    " &nbsp;&nbsp;&nbsp;&nbsp; a) Syntax <br>\n",
    " &nbsp;&nbsp;&nbsp;&nbsp; b) Using Lambda's with Filter <br>\n",
    " &nbsp;&nbsp;&nbsp;&nbsp; c) In-Class Exercise #3 <br>\n",
    "4) <b>Reduce</b> <br>\n",
    " &nbsp;&nbsp;&nbsp;&nbsp; a) Syntax <br>\n",
    " &nbsp;&nbsp;&nbsp;&nbsp; b) Using Lambda's with Reduce <br>\n",
    " &nbsp;&nbsp;&nbsp;&nbsp; c) In-Class Exercise #4 <br>\n",
    "5) <b>Recursion</b> <br>\n",
    " &nbsp;&nbsp;&nbsp;&nbsp; a) Implementing a Base <br>\n",
    " &nbsp;&nbsp;&nbsp;&nbsp; b) Writing a Factorial Function <br>\n",
    " &nbsp;&nbsp;&nbsp;&nbsp; c) In-Class Exercise #5 <br>\n",
    "6) <b>Generators & Iterators</b> <br>\n",
    " &nbsp;&nbsp;&nbsp;&nbsp; a) Yield Keyword <br>\n",
    " &nbsp;&nbsp;&nbsp;&nbsp; b) Inifinite Generator <br>\n",
    " &nbsp;&nbsp;&nbsp;&nbsp; c) In-Class Exercise #6 <br>\n",
    "7) <b>Exercises</b> <br>\n",
    " &nbsp;&nbsp;&nbsp;&nbsp; a) Exercise #1 - Filtering Empty Strings <br>\n",
    " &nbsp;&nbsp;&nbsp;&nbsp; b) Exercise #2 - Sorting with Last Name <br>\n",
    " &nbsp;&nbsp;&nbsp;&nbsp; c) Exercise #3 - Conversion to Farhenheit <br>\n",
    " &nbsp;&nbsp;&nbsp;&nbsp; d) Exercise #4 - Fibonacci Sequence <br>"
   ]
  },
  {
   "cell_type": "markdown",
   "metadata": {},
   "source": [
    "## Lambda Functions <br>\n",
    "<p>Lambda functions... or \"Anonymous Functions\" are referring to inline functions with no name. The keyword lambda denotes the no name function, and executes within a single line. Without saving it to a variable; however, it is not able to be used, unless passed in either as a paramater or within list comprehension.<br>Written as \"(keyword lambda) (one or more inputs) (colon) (function to be executed)\"</p>"
   ]
  },
  {
   "cell_type": "markdown",
   "metadata": {},
   "source": [
    "#### Syntax"
   ]
  },
  {
   "cell_type": "code",
   "execution_count": 2,
   "metadata": {},
   "outputs": [
    {
     "name": "stdout",
     "output_type": "stream",
     "text": [
      "6\n",
      "6\n"
     ]
    }
   ],
   "source": [
    "# One-liner or one-off function (don't necessarily need to use it again)\n",
    "# Reminder: main reason for writing a function is to be able to use that function again (think of it as a blueprint)\n",
    "\n",
    "# Normal function example\n",
    "def addTwo(n):\n",
    "    return n + 2\n",
    "print(addTwo(4)) # Result is 6\n",
    "\n",
    "# Lambda Function Syntax\n",
    "# Example of calling a Lambda without a variable name\n",
    "# Typically use x for the keyword\n",
    "\n",
    "# lambda for x input before colon -- and whatever you want returned for x after colon\n",
    "print((lambda x: x+2)(4))"
   ]
  },
  {
   "cell_type": "markdown",
   "metadata": {},
   "source": [
    "#### Saving to a Variable"
   ]
  },
  {
   "cell_type": "code",
   "execution_count": 5,
   "metadata": {},
   "outputs": [
    {
     "data": {
      "text/plain": [
       "6"
      ]
     },
     "execution_count": 5,
     "metadata": {},
     "output_type": "execute_result"
    }
   ],
   "source": [
    "lambda_var = lambda x: x + 2\n",
    "\n",
    "lambda_var(4)"
   ]
  },
  {
   "cell_type": "markdown",
   "metadata": {},
   "source": [
    "#### Multiple Inputs"
   ]
  },
  {
   "cell_type": "code",
   "execution_count": 8,
   "metadata": {},
   "outputs": [
    {
     "name": "stdout",
     "output_type": "stream",
     "text": [
      "30\n"
     ]
    },
    {
     "data": {
      "text/plain": [
       "30"
      ]
     },
     "execution_count": 8,
     "metadata": {},
     "output_type": "execute_result"
    }
   ],
   "source": [
    "# no variable\n",
    "print((lambda x,y,z: x*y*z)(3,5,2))\n",
    "\n",
    "# variable\n",
    "test = lambda x,y,z: x*y*z\n",
    "test(3,5,2)"
   ]
  },
  {
   "cell_type": "markdown",
   "metadata": {},
   "source": [
    "#### Passing a Lambda into a Function"
   ]
  },
  {
   "cell_type": "code",
   "execution_count": 14,
   "metadata": {},
   "outputs": [
    {
     "data": {
      "text/plain": [
       "16"
      ]
     },
     "execution_count": 14,
     "metadata": {},
     "output_type": "execute_result"
    }
   ],
   "source": [
    "# This lambda function returns the num\n",
    "def multiply(f, num):\n",
    "    \"\"\"\n",
    "        f expects a lambda function\n",
    "        num expects an integer\n",
    "    \"\"\"\n",
    "    return f(num) # Return lambda passing in 4\n",
    "\n",
    "# want lambda x to return x * x \n",
    "multiply(lambda x: x * x, 4) # lambda 4: 4*4"
   ]
  },
  {
   "cell_type": "markdown",
   "metadata": {},
   "source": [
    "#### Returning a Lambda from a Function"
   ]
  },
  {
   "cell_type": "code",
   "execution_count": 21,
   "metadata": {},
   "outputs": [
    {
     "name": "stdout",
     "output_type": "stream",
     "text": [
      "<function returnFunc.<locals>.multiply at 0x7f935ab1daf0>\n",
      "8\n",
      "<function returnLambda.<locals>.<lambda> at 0x7f935ab56310>\n",
      "19\n"
     ]
    }
   ],
   "source": [
    "# Regular defined function\n",
    "def multiply_test(num):\n",
    "    return num * 4\n",
    "\n",
    "# Function within another function\n",
    "def returnFunc(): #the job of this function is to create a function to be used at another time\n",
    "    test = 4\n",
    "    def multiply(num):\n",
    "        return num * 2\n",
    "    return multiply\n",
    "\n",
    "print(returnFunc()) # This returns where it's stored on the computer\n",
    "\n",
    "f_storage = returnFunc() # similar to storing something in a variable\n",
    "\n",
    "print(f_storage(4))\n",
    "\n",
    "# Lambda function return from a regular named function\n",
    "# pass variables from parent into child\n",
    "def returnLambda(b,c):\n",
    "    return lambda x,a: x + a + b + c  # takes in two parameter (x and a)\n",
    "\n",
    "#save in a variable\n",
    "r_lamb = returnLambda(4,5)\n",
    "\n",
    "# r_lamb = lambda x,a: x + a + 4 + 5\n",
    "print(r_lamb) # prints only with the location of b,c values\n",
    "print(r_lamb(5,5)) # per r_lamb is 5 + 5 + 4 + 5"
   ]
  },
  {
   "cell_type": "markdown",
   "metadata": {},
   "source": [
    "#### If Statements within Lambdas"
   ]
  },
  {
   "cell_type": "code",
   "execution_count": 25,
   "metadata": {},
   "outputs": [
    {
     "name": "stdout",
     "output_type": "stream",
     "text": [
      "4\n"
     ]
    },
    {
     "data": {
      "text/plain": [
       "22"
      ]
     },
     "execution_count": 25,
     "metadata": {},
     "output_type": "execute_result"
    }
   ],
   "source": [
    "# lambda x: True if (condition) else False (doesn't have to be True/False)\n",
    "\n",
    "# Normal conditional inside of named function\n",
    "\n",
    "def conditional(n):\n",
    "    if n > 10:\n",
    "        return n * 2\n",
    "    else:\n",
    "        return n + 2\n",
    "\n",
    "# conditional(2) # result 4\n",
    "conditional(11) # result 22\n",
    "\n",
    "# anonymous function with conditional statement\n",
    "f_condition = lambda n: n * 2 if n > 10 else n + 2 #mult number if greater than 2, if not, do this instead\n",
    "\n",
    "print(f_condition(2))\n",
    "f_condition(11)"
   ]
  },
  {
   "cell_type": "markdown",
   "metadata": {},
   "source": [
    "#### In-Class Exercise #1 <br>\n",
    "<p>Write an anonymous function that cubes the arguments passed in and assign the anonymous function to a variable 'f'.</p>"
   ]
  },
  {
   "cell_type": "code",
   "execution_count": 28,
   "metadata": {},
   "outputs": [
    {
     "name": "stdout",
     "output_type": "stream",
     "text": [
      "27\n",
      "64\n",
      "8\n"
     ]
    }
   ],
   "source": [
    "# My solution:\n",
    "f = lambda x: x ** 3\n",
    "print(f(3))\n",
    "\n",
    "\n",
    "# Rashel solution:\n",
    "f_cubed = lambda n: n ** 3\n",
    "print(f_cubed(4))\n",
    "\n",
    "\n",
    "# Dimitri solution. Works, but not an anonymous function because it's named and stored in def cubed_stuff\n",
    "def cubed_stuff(n):\n",
    "    return n ** 3\n",
    "\n",
    "def f(n):\n",
    "    return cubed_stuff(n)\n",
    "print(f(2))"
   ]
  },
  {
   "cell_type": "markdown",
   "metadata": {},
   "source": [
    "## Map <br>\n",
    "<p>The map function allows you to iterate over an entire list while running a function on each item of the list. This is why the map function works well with lambda's, because it simplifies things and you write less lines of code.<br>The syntax for a map function is \"map(function to be used, list to be used)\"<br>However, you must be careful, as the map function returns a map object, not a list. To turn it into a list we use the list() type conversion.</p>"
   ]
  },
  {
   "cell_type": "markdown",
   "metadata": {},
   "source": [
    "#### Syntax"
   ]
  },
  {
   "cell_type": "code",
   "execution_count": 33,
   "metadata": {},
   "outputs": [
    {
     "name": "stdout",
     "output_type": "stream",
     "text": [
      "[(4, 4), (9, 49), (10, 2), (15, 12), (20, 100)]\n"
     ]
    }
   ],
   "source": [
    "# map(func, iterable(list, dict, tuple, set)) -- iterable is anything that has multiple items that you can perform an action on\n",
    "# Normally we use map with a user defined function, but we can use lambdas as well\n",
    "# in map(function_name, parameter1, parameter2)\n",
    "\n",
    "def squared(num1, num2):\n",
    "    if num1 < 10 and num2 < 10:\n",
    "        return num1 ** 2, num2 ** 2\n",
    "    else:\n",
    "        return num1, num2\n",
    "squared(2,3)\n",
    "\n",
    "# Can iterate over both lists at the same time\n",
    "numbers = [2, 3, 10, 15, 20]\n",
    "more_numbers = [2, 7, 2, 12, 100]\n",
    "\n",
    "# returns <map object at 0x7f935ab50520>\n",
    "# squared_nums_map = map(squared, numbers, more_numbers)\n",
    "# print(squared_nums_map) \n",
    "\n",
    "# Map functions return a Map Object - so you must wrap them in a list() to get values returned\n",
    "squared_nums_map = list(map(squared, numbers, more_numbers))\n",
    "print(squared_nums_map) "
   ]
  },
  {
   "cell_type": "markdown",
   "metadata": {},
   "source": [
    "#### Using Lambda's with Map"
   ]
  },
  {
   "cell_type": "code",
   "execution_count": 36,
   "metadata": {},
   "outputs": [
    {
     "data": {
      "text/plain": [
       "[(4, 4), (9, 49), (10, 2), (15, 12), (20, 100)]"
      ]
     },
     "execution_count": 36,
     "metadata": {},
     "output_type": "execute_result"
    }
   ],
   "source": [
    "# map(lambda x: x + 2, list)\n",
    "# using lambda in map, it happens in line - or on one line\n",
    "# list(map(lambda x: x + 2(nums)))\n",
    "\n",
    "# return x **2, y**2 if x < 10 and y < 10\n",
    "squared_nums_lamb = list(map(lambda x,y: (x ** 2, y ** 2) if x < 10 and y < 10 else(x,y), numbers,more_numbers))\n",
    "\n",
    "squared_nums_lamb"
   ]
  },
  {
   "cell_type": "markdown",
   "metadata": {},
   "source": [
    "#### In-Class Exercise #2 <br>\n",
    "<p>Use the map function to double each number and subtract one in the list by using a lambda function</p>"
   ]
  },
  {
   "cell_type": "code",
   "execution_count": 41,
   "metadata": {},
   "outputs": [
    {
     "name": "stdout",
     "output_type": "stream",
     "text": [
      "[19, 3, 5, 13, 199, 49]\n",
      "[19, 3, 5, 13, 199, 49]\n"
     ]
    }
   ],
   "source": [
    "my_list = [10, 2, 3, 7, 100, 25]\n",
    "\n",
    "# Will solution:\n",
    "f_num = lambda x: (x * 2) - 1\n",
    "exercises = list(map(f_num, my_list))\n",
    "\n",
    "print(exercises)\n",
    "\n",
    "# Instructor solution:\n",
    "exe_2 = list(map(lambda x: x*2 -1, my_list))\n",
    "print(exe_2)\n",
    "\n",
    "\n",
    "# return ((n * 2) - 1)\n",
    "# double_nums = list(map(lambda x))\n",
    "# print(double) "
   ]
  },
  {
   "cell_type": "code",
   "execution_count": null,
   "metadata": {},
   "outputs": [],
   "source": []
  },
  {
   "cell_type": "markdown",
   "metadata": {},
   "source": [
    "## Filter() <br>\n",
    "<p>Filter's are similar to the map function, where you're able to pass a function argument and a list argument and filter out something from the list based on the conditions passed. Similar to the map function, it returns a filter object, so you need to type convert it to a list()</p>"
   ]
  },
  {
   "cell_type": "markdown",
   "metadata": {},
   "source": [
    "#### Syntax"
   ]
  },
  {
   "cell_type": "code",
   "execution_count": 45,
   "metadata": {},
   "outputs": [
    {
     "name": "stdout",
     "output_type": "stream",
     "text": [
      "['Andy', 'Angelica']\n"
     ]
    }
   ],
   "source": [
    "names = ['Bob', 'Andy', 'Max', 'Evan', 'Angelica']\n",
    "\n",
    "def a_names(name):\n",
    "    if name[0].lower() == 'a':\n",
    "        return True\n",
    "    else:\n",
    "        return False\n",
    "    \n",
    "# pass in (function_name, iterable)\n",
    "names_starting_a = list(filter(a_names, names))\n",
    "print(names_starting_a)"
   ]
  },
  {
   "cell_type": "markdown",
   "metadata": {},
   "source": [
    "#### Using Lambda's with Filter()"
   ]
  },
  {
   "cell_type": "code",
   "execution_count": 48,
   "metadata": {},
   "outputs": [
    {
     "name": "stdout",
     "output_type": "stream",
     "text": [
      "['Andy', 'Angelica']\n"
     ]
    }
   ],
   "source": [
    "new_names_lamb = list(filter(lambda name: True if name[0].lower() == 'a' else False, names))\n",
    "\n",
    "print(new_names_lamb)"
   ]
  },
  {
   "cell_type": "markdown",
   "metadata": {},
   "source": [
    "#### In-Class Exercise #3 <br>\n",
    "<p>Filter out all the numbers that are below the mean of the list.<br><b>Hint: Import the 'statistics' module</b></p>"
   ]
  },
  {
   "cell_type": "code",
   "execution_count": 60,
   "metadata": {},
   "outputs": [
    {
     "name": "stdout",
     "output_type": "stream",
     "text": [
      "4.728571428571429\n",
      "[2, 4.2, 1.6, 4.4]\n",
      "\n",
      "\n",
      "5.375\n",
      "[2, 4, 5, 4, 5]\n"
     ]
    }
   ],
   "source": [
    "from statistics import mean\n",
    "\n",
    "# My solution:\n",
    "nums = [2, 7, 4.2, 1.6, 9, 4.4, 4.9]\n",
    "# nums = [3, 5, 7, 9]\n",
    "\n",
    "mean_list = mean(nums)\n",
    "print(mean_list)\n",
    "\n",
    "below_mean = list(filter(lambda number: True if number < mean_list else False, nums))\n",
    "print(below_mean)\n",
    "\n",
    "\n",
    "print('\\n')\n",
    "\n",
    "\n",
    "# Eric solution:\n",
    "num_list = [2, 4, 5, 10, 7, 6, 4, 5]\n",
    "print(mean(num_list))\n",
    "\n",
    "lamb_filt = list(filter(lambda num: True if num < mean(num_list) else False, num_list))\n",
    "print(lamb_filt)"
   ]
  },
  {
   "cell_type": "markdown",
   "metadata": {},
   "source": [
    "## Reduce() <br>\n",
    "<p>Be very careful when using this function, as of Python 3 it's been moved to the 'functools' library and no longer is a built-in function.<br>The creator of Python himself, says to just use a for loop instead.</p>"
   ]
  },
  {
   "cell_type": "markdown",
   "metadata": {},
   "source": [
    "#### Syntax"
   ]
  },
  {
   "cell_type": "code",
   "execution_count": 62,
   "metadata": {},
   "outputs": [
    {
     "name": "stdout",
     "output_type": "stream",
     "text": [
      "36\n",
      "-32\n"
     ]
    }
   ],
   "source": [
    "# reduce() can store an intermediate result while iterating through a list, and continue using\n",
    "# intermediate results as parameters until the full list has been iterated through\n",
    "# stores the initial/intermediate result until it is used again\n",
    "\n",
    "from functools import reduce\n",
    "\n",
    "# reduce(function, iterable)\n",
    "\n",
    "list_1 = [2, 4, 6, 8, 7, 9]\n",
    "\n",
    "def addNums(num1, num2):\n",
    "    return num1 + num2   # 2 + 4 becomes num_1 (6) + num_2 (6), which becomes num_1 (12) + num_2 (8), and so on...\n",
    "\n",
    "result_add = reduce(addNums, list_1)\n",
    "\n",
    "print(result_add)\n",
    "\n",
    "# Subtraction example\n",
    "def subtractNums(num1,num2):\n",
    "    return num1-num2\n",
    "\n",
    "result_sub = reduce(subtractNums, list_1)\n",
    "\n",
    "print(result_sub)"
   ]
  },
  {
   "cell_type": "markdown",
   "metadata": {},
   "source": [
    "#### Using Lambda's with Reduce()"
   ]
  },
  {
   "cell_type": "code",
   "execution_count": 67,
   "metadata": {},
   "outputs": [
    {
     "name": "stdout",
     "output_type": "stream",
     "text": [
      "36\n",
      "-32\n"
     ]
    }
   ],
   "source": [
    "#In this example, x,y are 2 and 4 (per list_1 above)\n",
    "result_lamb = reduce(lambda x,y: x + y, list_1)\n",
    "print(result_lamb)\n",
    "\n",
    "\n",
    "result_lamb_2 = reduce(lambda x,y: x-y, list_1)\n",
    "print(result_lamb_2)"
   ]
  },
  {
   "cell_type": "markdown",
   "metadata": {},
   "source": [
    "#### In-Class Exercise #4 <br>\n",
    "<p>Use the reduce function to multiply the numbers in the list below together with a lambda function.</p>"
   ]
  },
  {
   "cell_type": "code",
   "execution_count": 78,
   "metadata": {},
   "outputs": [
    {
     "name": "stdout",
     "output_type": "stream",
     "text": [
      "240000\n",
      "24\n"
     ]
    }
   ],
   "source": [
    "# My solution\n",
    "# num_list = [2, 3, 4, 5]\n",
    "num_list = [10, 20, 30, 40]\n",
    "\n",
    "reduce_multiply = reduce(lambda x,y: x * y, num_list)\n",
    "print(reduce_multiply)\n",
    "\n",
    "\n",
    "# Rashel solution:\n",
    "my_list = [1, 2, 3, 4]\n",
    "results_multiply = reduce(lambda x,y: x*y, my_list)\n",
    "print(results_multiply)"
   ]
  },
  {
   "cell_type": "code",
   "execution_count": 83,
   "metadata": {},
   "outputs": [
    {
     "name": "stdout",
     "output_type": "stream",
     "text": [
      "24\n"
     ]
    }
   ],
   "source": [
    "# counter/tracker example\n",
    "\n",
    "my_list = [1,2,3,4]\n",
    "tracker = 1  # set equal to one for multiplication 0 here would return 0\n",
    "for n in my_list:\n",
    "#     tracker += n  # to try this, change tracker value to 0\n",
    "    tracker *= n\n",
    "    \n",
    "print(tracker)"
   ]
  },
  {
   "cell_type": "markdown",
   "metadata": {},
   "source": [
    "## Recursion <br>\n",
    "<p>Recursion means that a function is calling itself, so it contanstly executes until a base case is reached. It will then push the returning values back up the chain until the function is complete. A prime example of recursion is computing factorials... such that 5! (factorial) is 5*4*3*2*1 which equals 120.</p>"
   ]
  },
  {
   "cell_type": "markdown",
   "metadata": {},
   "source": [
    "#### Implementing a Base Case"
   ]
  },
  {
   "cell_type": "code",
   "execution_count": 105,
   "metadata": {},
   "outputs": [
    {
     "name": "stdout",
     "output_type": "stream",
     "text": [
      "addNums(5) = 5 + addNums(4)\n",
      "addNums(4) = 4 + addNums(3)\n",
      "addNums(3) = 3 + addNums(2)\n",
      "addNums(2) = 2 + addNums(1)\n",
      "addNums(1) = 1\n"
     ]
    },
    {
     "data": {
      "text/plain": [
       "15"
      ]
     },
     "execution_count": 105,
     "metadata": {},
     "output_type": "execute_result"
    }
   ],
   "source": [
    "# 1) define a function\n",
    "def addNums(num):\n",
    "    # 2) Set a base case (if part of if stmt in this example) for recursive function (continue calling until the input is <=1 --- per if statment below)\n",
    "    if num <= 1:\n",
    "        print(\"addNums(1) = 1\")\n",
    "        return num\n",
    "    # 3) set the next call (else part of if stmt in this example) with the base case in mind\n",
    "    else:\n",
    "        print(f\"addNums({num}) = {num} + addNums({num -1})\")\n",
    "        return num + addNums(num-1) # return 5 plus every num below 5\n",
    "\n",
    "# Results in 15. Starting from bottom, going up\n",
    "addNums(5)\n",
    "    \n"
   ]
  },
  {
   "cell_type": "markdown",
   "metadata": {},
   "source": [
    "#### Writing a Factorial Function"
   ]
  },
  {
   "cell_type": "code",
   "execution_count": 88,
   "metadata": {},
   "outputs": [
    {
     "data": {
      "text/plain": [
       "3628800"
      ]
     },
     "execution_count": 88,
     "metadata": {},
     "output_type": "execute_result"
    }
   ],
   "source": [
    "# factorial format:\n",
    "# 5! = 5 * 4 * 3 * 2 * 1\n",
    "\n",
    "def factorial(num):\n",
    "    if num <= 1:\n",
    "        return num\n",
    "    else:\n",
    "        return num * factorial(num - 1)\n",
    "    \n",
    "factorial(10)\n",
    "        "
   ]
  },
  {
   "cell_type": "code",
   "execution_count": 97,
   "metadata": {},
   "outputs": [
    {
     "name": "stdout",
     "output_type": "stream",
     "text": [
      "105\n",
      "\n",
      "\n",
      "15\n",
      "31\n",
      "48\n",
      "66\n",
      "85\n",
      "105\n"
     ]
    }
   ],
   "source": [
    "# Think about iterative as moving forward to get to the number\n",
    "# and recursive as moving back to get to the number\n",
    "\n",
    "# additional example \n",
    "\n",
    "# Assuming num is less than 20, add all integers between num and 20\n",
    "# 9 = 9 + 10 + 11 + 12 + 13\n",
    "\n",
    "# Solving recursively\n",
    "def addToTwenty(num):\n",
    "    # base case\n",
    "    if num >= 20:\n",
    "        return num\n",
    "    else:\n",
    "        return num + addToTwenty(num + 1)\n",
    "    \n",
    "# additional note: the answer to 19 is the answer to 19 + the answer to 20 (can see that in Python Tutor)\n",
    "    \n",
    "print(addToTwenty(15))\n",
    "\n",
    "\n",
    "\n",
    "print('\\n')\n",
    "\n",
    "\n",
    "# Another way to get the same result/solve the problem iteratively (not recursively)\n",
    "counter = 0\n",
    "for i in range(15,21):\n",
    "    counter += i\n",
    "    print(counter)"
   ]
  },
  {
   "cell_type": "markdown",
   "metadata": {},
   "source": [
    "#### In-Class Exercise #5 <br>\n",
    "<p>Write a recursive function that subtracts all numbers to the argument given.</p>"
   ]
  },
  {
   "cell_type": "code",
   "execution_count": 122,
   "metadata": {},
   "outputs": [
    {
     "name": "stdout",
     "output_type": "stream",
     "text": [
      "subtractNums(5) = 5 - (4)\n",
      "subtractNums(4) = 4 - (3)\n",
      "subtractNums(3) = 3 - (2)\n",
      "subtractNums(2) = 2 - (1)\n",
      "subtractNums(1) = 1\n",
      "3\n",
      "subNums(5) = 5 - subNums(4)\n",
      "subNums(4) = 4 - subNums(3)\n",
      "subNums(3) = 3 - subNums(2)\n",
      "subNums(2) = 2 - subNums(1)\n",
      "subNums(1) = 1\n",
      "3\n"
     ]
    }
   ],
   "source": [
    "#num = 5, return answer = 5 -(4 -(3-(2-1)))\n",
    "\n",
    "num = 5\n",
    "\n",
    "# 1) define a function\n",
    "def subtractNums(num):\n",
    "    # 2) Set a base case \n",
    "    if num <= 1:\n",
    "        print(\"subtractNums(1) = 1\")\n",
    "        return num\n",
    "    # 3) set the next call (else part of if stmt in this example) with the base case in mind\n",
    "    else:\n",
    "        print(f\"subtractNums({num}) = {num} - ({num - 1})\")\n",
    "        return num - subtractNums(num - 1) # return 5 minus every num below 5\n",
    "\n",
    "\n",
    "# Results in 3. Starting from bottom, going up\n",
    "print(subtractNums(5))\n",
    "\n",
    "\n",
    "# Explaining results\n",
    "# subtractNums(5) = 5 - (4)     # 5 - 2 (2 here is result of 4-2 below) = 3\n",
    "# subtractNums(4) = 4 - (3)     # 4 - 2 (2 here is result of 3-1 below) = 2\n",
    "# subtractNums(3) = 3 - (2)     # 3 - 1 (1 here is result of 2-1 below) = 2\n",
    "# subtractNums(2) = 2 - (1)     # 2 - 1 (1 here is base starting point below) = 1\n",
    "# subtractNums(1) = 1           # 1   -------> Starts here and goes up to 5 (because num var = 5)\n",
    "    \n",
    "\n",
    "\n",
    "# Instructor Solution:\n",
    "def subNums(num):\n",
    "    if num <= 1:\n",
    "        print(\"subNums(1) = 1\")\n",
    "        return num\n",
    "    else:\n",
    "        print(f\"subNums({num}) = {num} - subNums({num - 1})\")\n",
    "        return num - subNums(num - 1)\n",
    "print(subNums(5))"
   ]
  },
  {
   "cell_type": "code",
   "execution_count": null,
   "metadata": {},
   "outputs": [],
   "source": []
  },
  {
   "cell_type": "markdown",
   "metadata": {},
   "source": [
    "## Generators <br>\n",
    "<p>Generators are a type of iterable, like lists or tuples. They do not allow indexing, but they can still be iterated through with for loops. They are created using functions and the yield statement.</p>"
   ]
  },
  {
   "cell_type": "markdown",
   "metadata": {},
   "source": [
    "#### Yield Keyword <br>\n",
    "<p>The yield keyword denotes a generator, it doesn't return so it won't leave the function and reset all variables in the function scope, instead it yields the number back to the caller.</p>"
   ]
  },
  {
   "cell_type": "code",
   "execution_count": 128,
   "metadata": {},
   "outputs": [
    {
     "name": "stdout",
     "output_type": "stream",
     "text": [
      "2\n",
      "4\n",
      "6\n",
      "8\n",
      "10\n",
      "12\n",
      "14\n",
      "16\n",
      "18\n"
     ]
    },
    {
     "data": {
      "text/plain": [
       "<generator object my_range at 0x7f935abd1040>"
      ]
     },
     "execution_count": 128,
     "metadata": {},
     "output_type": "execute_result"
    }
   ],
   "source": [
    "# main reason to do this is to save space rather than having lists stored\n",
    "\n",
    "def my_range(start, stop, step = 2):\n",
    "    while start < stop:\n",
    "        yield start  #yield keyword denotes a generator, not a normal function\n",
    "        start += step\n",
    "\n",
    "for i in my_range(2, 20):\n",
    "    my_generator_value = i\n",
    "    print(my_generator_value)\n",
    "    \n",
    "my_range(2,20)\n"
   ]
  },
  {
   "cell_type": "code",
   "execution_count": 148,
   "metadata": {},
   "outputs": [
    {
     "name": "stdout",
     "output_type": "stream",
     "text": [
      "2\n",
      "3\n",
      "5\n",
      "7\n",
      "11\n",
      "13\n",
      "17\n",
      "19\n",
      "23\n",
      "29\n",
      "31\n",
      "37\n",
      "41\n",
      "43\n",
      "47\n"
     ]
    }
   ],
   "source": [
    "# Generator for prime numbers up to n\n",
    "\n",
    "def getPrimes(n):\n",
    "    i = 2\n",
    "    prime = False\n",
    "    while i <= n:\n",
    "        for num in range(2,i):  # (2,i) --> (setting 2 to start, i)\n",
    "            if  i%num == 0:\n",
    "                break\n",
    "        else:\n",
    "            prime = True\n",
    "        if prime == True:\n",
    "            yield i \n",
    "            prime = False\n",
    "        i += 1\n",
    "\n",
    "for i in getPrimes(50):\n",
    "    my_val = i\n",
    "    print(my_val)"
   ]
  },
  {
   "cell_type": "markdown",
   "metadata": {},
   "source": [
    "#### Infinite Generator"
   ]
  },
  {
   "cell_type": "code",
   "execution_count": null,
   "metadata": {},
   "outputs": [],
   "source": [
    "# bad, never create infinite loops"
   ]
  },
  {
   "cell_type": "markdown",
   "metadata": {},
   "source": [
    "#### In-Class Exercise #6 <br>\n",
    "<p>Create a generator that takes a number argument and yields that number squared, then prints each number squared until zero is reached.</p>"
   ]
  },
  {
   "cell_type": "code",
   "execution_count": 156,
   "metadata": {},
   "outputs": [
    {
     "name": "stdout",
     "output_type": "stream",
     "text": [
      "16\n",
      "9\n",
      "4\n",
      "1\n",
      "\n",
      "\n",
      "9\n",
      "4\n",
      "1\n",
      "0\n",
      "<generator object num_sq at 0x7f935acec510>\n",
      "\n",
      "\n",
      "0\n",
      "1\n",
      "4\n",
      "9\n",
      "16\n"
     ]
    }
   ],
   "source": [
    "# will have a (start, stop, step), but stepping backward for this\n",
    "\n",
    "\n",
    "# output should look similar to this:\n",
    "#16\n",
    "#9\n",
    "#4\n",
    "#1\n",
    "#0\n",
    "\n",
    "# yield the start squared\n",
    "# num_sq(0,4,1)\n",
    "\n",
    "\n",
    "# Nate's response\n",
    "# for i in numSq(4)\n",
    "# 16\n",
    "# 9\n",
    "# 4\n",
    "# 1\n",
    "\n",
    "def numSq(start, stop = 0, step = 1):\n",
    "    while start > stop:\n",
    "        yield start ** 2\n",
    "        start  -= step\n",
    "        \n",
    "for i in numSq(4):\n",
    "    print(i)\n",
    "    \n",
    "\n",
    "print('\\n')\n",
    "\n",
    "# Response from instructor file\n",
    "def num_sq(stop, start, step = 1):\n",
    "    while start >= stop:\n",
    "        yield start ** 2  \n",
    "        start -= step\n",
    "\n",
    "for i in num_sq(0,start=3):\n",
    "    print(i)\n",
    "    \n",
    "print(num_sq(0,10))\n",
    "\n",
    "print('\\n')\n",
    "\n",
    "# Reverses the order:\n",
    "def numSq2(stop, start=0, step=1):\n",
    "    while start <= stop:\n",
    "        yield start ** 2\n",
    "        start += step\n",
    "for i in numSq2(4):\n",
    "    print(i)"
   ]
  },
  {
   "cell_type": "markdown",
   "metadata": {},
   "source": [
    "# Exercises"
   ]
  },
  {
   "cell_type": "markdown",
   "metadata": {},
   "source": [
    "### Exercise #1 <br>\n",
    "<p>Filter out all of the empty strings from the list below</p>\n",
    "\n",
    "`Output: ['Argentina', 'San Diego', 'Boston', 'New York']`"
   ]
  },
  {
   "cell_type": "code",
   "execution_count": 76,
   "metadata": {},
   "outputs": [
    {
     "name": "stdout",
     "output_type": "stream",
     "text": [
      "['Argentina', 'San Diego', 'Boston', 'New York']\n"
     ]
    }
   ],
   "source": [
    "places = [\" \",\"Argentina\", \" \", \"San Diego\",\"\",\"  \",\"\",\"Boston\",\"New York\"]\n",
    "\n",
    "# filter(func,places)\n",
    "\n",
    "empty_places = list(filter(lambda place: True if place != \" \" and place !=\"\" and place !=\"  \" else False, places))\n",
    "print(empty_places)\n"
   ]
  },
  {
   "cell_type": "code",
   "execution_count": null,
   "metadata": {},
   "outputs": [],
   "source": []
  },
  {
   "cell_type": "markdown",
   "metadata": {},
   "source": [
    "### Exercise #2 <br>\n",
    "<p>Write an anonymous function that sorts this list by the last name...<br><b>Hint: Use the \".sort()\" method and access the key\"</b></p>\n",
    "\n",
    "`Output: ['Victor aNisimov', 'Gary A.J. Bernstein', 'Joel Carter', 'Andrew P. Garfield', 'David hassELHOFF']`"
   ]
  },
  {
   "cell_type": "code",
   "execution_count": 210,
   "metadata": {},
   "outputs": [
    {
     "name": "stdout",
     "output_type": "stream",
     "text": [
      "Output: ['Victor aNisimov', 'Gary A.J. Bernstein', 'Joel Carter', 'Andrew P. Garfield', 'David hassELHOFF']\n"
     ]
    }
   ],
   "source": [
    "# think about splitting up, then go on index of the last name\n",
    "\n",
    "author = [\"Joel Carter\", \"Victor aNisimov\", \"Andrew P. Garfield\",\"David hassELHOFF\",\"Gary A.J. Bernstein\"]\n",
    "\n",
    "# key is the function\n",
    "# sorting author list\n",
    "# with key = lambda function\n",
    "# split by spaces\n",
    "# sort starting with index[-1] of each item/name\n",
    "# .lower() to search for any case\n",
    "\n",
    "\n",
    "sorted_names = sorted(author, key=lambda x: x.split(\" \")[-1].lower())\n",
    "print(f\"Output: {sorted_names}\")\n",
    "\n",
    "\n",
    "# This picked up middle names/middle initial\n",
    "# sorted_list = sorted(author, key=lambda x: x.split(\" \")[-1])\n",
    "# print(sorted_list)\n",
    "\n",
    "\n",
    "# This returns none\n",
    "# sorted_names = author.sort(key=lambda x: x.split(\" \")[-1])\n",
    "# print(sorted_names)\n"
   ]
  },
  {
   "cell_type": "markdown",
   "metadata": {},
   "source": [
    "### Exercise #3 <br>\n",
    "<p>Convert the list below from Celsius to Farhenheit, using the map function with a lambda...</p>\n",
    "\n",
    "`Output: [('Nashua', 89.6), ('Boston', 53.6), ('Los Angelos', 111.2), ('Miami', 84.2)]\n",
    "`"
   ]
  },
  {
   "cell_type": "code",
   "execution_count": 383,
   "metadata": {},
   "outputs": [
    {
     "name": "stdout",
     "output_type": "stream",
     "text": [
      "[('Nashua', 89.6), ('Boston', 53.6), ('Los Angelos', 111.2), ('Miami', 84.2)]\n"
     ]
    }
   ],
   "source": [
    "# F = (9/5)*C + 32\n",
    "# do this with a map(lambda,places)\n",
    "# intentionally tuples inside the list\n",
    "\n",
    "# map(function to be used, list to be used)\n",
    "\n",
    "places = [('Nashua',32),(\"Boston\",12),(\"Los Angelos\",44),(\"Miami\",29)]\n",
    "\n",
    "change_temp = list(map(lambda x: (x[0],float((9/5)*x[-1] + 32)), places))\n",
    "print(change_temp)\n",
    "\n",
    "\n",
    "\n",
    "# --- Failed Attempts --- #\n",
    "\n",
    "# Results in TypeError: 'float' object is not iterable\n",
    "# change_temp = list(map(lambda x: x[0],(9/5)*i + 32), places)\n",
    "\n",
    "\n",
    "# Results in TypeError: can't multiply sequence by non-int of type 'float'\n",
    "# change_temp = list(map(lambda x: x[0],(9/5)*x[-1] + 32), places)\n",
    "\n",
    "\n",
    "# TypeError: map() must have at least two arguments.\n",
    "# change_temp = list(map(lambda x: x ((9/5)*x[-1] + 32)), places)\n",
    "# print(change_temp)\n"
   ]
  },
  {
   "cell_type": "markdown",
   "metadata": {},
   "source": [
    "### Exercise #4 <br>\n",
    "<p>Write a recursion function to perform the fibonacci sequence up to the number passed in.</p>\n",
    "\n",
    "`Output for fib(5) => \n",
    "Iteration 0: 1\n",
    "Iteration 1: 1\n",
    "Iteration 2: 2\n",
    "Iteration 3: 3\n",
    "Iteration 4: 5\n",
    "Iteration 5: 8`"
   ]
  },
  {
   "cell_type": "code",
   "execution_count": 339,
   "metadata": {
    "scrolled": true
   },
   "outputs": [
    {
     "name": "stdout",
     "output_type": "stream",
     "text": [
      "Output:\n",
      "Iteration 0: 1\n",
      "Iteration 1: 1\n",
      "Iteration 2: 2\n",
      "Iteration 3: 3\n",
      "Iteration 4: 5\n",
      "Iteration 5: 8\n"
     ]
    }
   ],
   "source": [
    "# Any number greater than 1 will be added to previous iteration\n",
    "# In example above, iteration 2 is the sum of the previous two iterations (iters 0 and 1)\n",
    "# iter 3 is sum of iters 2 and 1\n",
    "# iter 4 is the sum of iters 3 and 2\n",
    "# iter 5 is the sum of iters 4 and 3\n",
    "\n",
    "\n",
    "# 1) define a function \n",
    "def fib(n):\n",
    "    # 2) Set a base case (if part of if stmt in this example) for recursive function (continue calling until the input is <=1 --- per if statment below)\n",
    "    if n < 1:\n",
    "        return 1\n",
    "    \n",
    "    if n == 1:\n",
    "        return n\n",
    "    \n",
    "    # 3) set the next call (else part of if stmt in this example) with the base case in mind\n",
    "    else:\n",
    "        return (fib(n-1) + fib(n-2))\n",
    "\n",
    "print(\"Output:\")\n",
    "for iter in range(0,6):\n",
    "    print(f\"Iteration {iter}: {fib(iter)}\")\n",
    "    "
   ]
  }
 ],
 "metadata": {
  "kernelspec": {
   "display_name": "Python 3",
   "language": "python",
   "name": "python3"
  },
  "language_info": {
   "codemirror_mode": {
    "name": "ipython",
    "version": 3
   },
   "file_extension": ".py",
   "mimetype": "text/x-python",
   "name": "python",
   "nbconvert_exporter": "python",
   "pygments_lexer": "ipython3",
   "version": "3.8.5"
  }
 },
 "nbformat": 4,
 "nbformat_minor": 2
}
